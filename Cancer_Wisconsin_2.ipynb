{
  "nbformat": 4,
  "nbformat_minor": 0,
  "metadata": {
    "colab": {
      "name": "Cancer_Wisconsin-2.ipynb",
      "provenance": [],
      "collapsed_sections": [],
      "mount_file_id": "1_7q9NBeLXZpNXSiE9ivDG8WQtQh9vgF6",
      "authorship_tag": "ABX9TyO9IOZk/+eZhVFtM1vNRI5P",
      "include_colab_link": true
    },
    "kernelspec": {
      "name": "python3",
      "display_name": "Python 3"
    },
    "accelerator": "GPU"
  },
  "cells": [
    {
      "cell_type": "markdown",
      "metadata": {
        "id": "view-in-github",
        "colab_type": "text"
      },
      "source": [
        "<a href=\"https://colab.research.google.com/github/Aman-1701/Cancer_Winconsin/blob/main/Cancer_Wisconsin_2.ipynb\" target=\"_parent\"><img src=\"https://colab.research.google.com/assets/colab-badge.svg\" alt=\"Open In Colab\"/></a>"
      ]
    },
    {
      "cell_type": "code",
      "metadata": {
        "id": "iOIjTQBGFEci"
      },
      "source": [
        "!pip install tensorflow-gpu"
      ],
      "execution_count": null,
      "outputs": []
    },
    {
      "cell_type": "code",
      "metadata": {
        "id": "f8qWSKM0WX9Z"
      },
      "source": [
        "!pip install ann_visualizer"
      ],
      "execution_count": null,
      "outputs": []
    },
    {
      "cell_type": "code",
      "metadata": {
        "id": "UzhoBJVbCwI7"
      },
      "source": [
        "!pip install GPUtil"
      ],
      "execution_count": null,
      "outputs": []
    },
    {
      "cell_type": "code",
      "metadata": {
        "id": "ROd40ZyhFHQO"
      },
      "source": [
        "import numpy as np\n",
        "import pandas as pd\n",
        "import seaborn as sns\n",
        "import matplotlib.pyplot as plt\n",
        "%matplotlib inline\n",
        "plt.style.use('ggplot')\n",
        "plt.figure(figsize=(5,5))\n",
        "\n",
        "# ----------------------------------------------\n",
        "from sklearn.metrics import precision_recall_fscore_support\n",
        "from sklearn.metrics import confusion_matrix\n",
        "from sklearn.metrics import accuracy_score\n",
        "from sklearn.preprocessing import LabelEncoder\n",
        "from sklearn.preprocessing import StandardScaler\n",
        "from sklearn.model_selection import train_test_split\n",
        "from sklearn.model_selection import KFold, cross_val_score\n",
        "from sklearn.metrics import precision_score\n",
        "from sklearn.metrics import recall_score\n",
        "from sklearn.metrics import f1_score\n",
        "\n",
        "#-----------------------------------------------\n",
        "from keras.models import Sequential\n",
        "from keras.layers import Dense, Activation\n",
        "from keras.layers import Dropout"
      ],
      "execution_count": null,
      "outputs": []
    },
    {
      "cell_type": "markdown",
      "metadata": {
        "id": "16IQ8uRwCTlY"
      },
      "source": [
        "#GPU DETAILS"
      ]
    },
    {
      "cell_type": "code",
      "metadata": {
        "colab": {
          "base_uri": "https://localhost:8080/"
        },
        "id": "lOLXQqRDCODO",
        "outputId": "0d8f0192-07bf-459c-ca6f-4940d71940e9"
      },
      "source": [
        "import GPUtil\r\n",
        "from tabulate import tabulate  \r\n",
        "\r\n",
        "def Graphics_info():\r\n",
        "    gpus=  GPUtil.getGPUs()\r\n",
        "    list_gpus=[]\r\n",
        "    for gpu in gpus:\r\n",
        "        gpu_id = gpu.id\r\n",
        "        gpu_name = gpu.name\r\n",
        "        gpu_load = f\"{gpu.load*100}%\"\r\n",
        "        gpu_free_memory = f\"{gpu.memoryFree}MB\"\r\n",
        "        gpu_used_memory = f\"{gpu.memoryUsed}MB\"\r\n",
        "        gpu_total_memory = f\"{gpu.memoryTotal}MB\"\r\n",
        "        gpu_temperature = f\"{gpu.temperature}`C\"\r\n",
        "        gpu_uuid = gpu.uuid\r\n",
        "        list_gpus.append((gpu_id,gpu_name,gpu_load,gpu_free_memory,gpu_used_memory,gpu_total_memory,\r\n",
        "                          gpu_temperature,gpu_uuid))\r\n",
        "        \r\n",
        "        return(str(tabulate(list_gpus,headers = (\"ID\",\"Name\",\"Load\",\"Free Memory\",\"Used Memory\",\r\n",
        "                                                 \"Total Memory\",\"Temperature\",\"UUID\"),tablefmt=\"pretty\")))\r\n",
        "    \r\n",
        "if __name__ == \"__main__\":\r\n",
        "    print(Graphics_info())"
      ],
      "execution_count": 72,
      "outputs": [
        {
          "output_type": "stream",
          "text": [
            "+----+----------+------+-------------+-------------+--------------+-------------+------------------------------------------+\n",
            "| ID |   Name   | Load | Free Memory | Used Memory | Total Memory | Temperature |                   UUID                   |\n",
            "+----+----------+------+-------------+-------------+--------------+-------------+------------------------------------------+\n",
            "| 0  | Tesla P4 | 0.0% |  7601.0MB   |   10.0MB    |   7611.0MB   |   34.0`C    | GPU-02fb5119-236c-95ed-6480-d58507cf40d4 |\n",
            "+----+----------+------+-------------+-------------+--------------+-------------+------------------------------------------+\n"
          ],
          "name": "stdout"
        }
      ]
    },
    {
      "cell_type": "markdown",
      "metadata": {
        "id": "f7WZ7aywCXiw"
      },
      "source": [
        "#DATA PREPROCESSING"
      ]
    },
    {
      "cell_type": "code",
      "metadata": {
        "id": "XEEvDgM3FbSJ"
      },
      "source": [
        "df=pd.read_csv(\"/content/drive/My Drive/CANCER/data.csv\")"
      ],
      "execution_count": 84,
      "outputs": []
    },
    {
      "cell_type": "code",
      "metadata": {
        "id": "w0RGUZtJFsyq",
        "colab": {
          "base_uri": "https://localhost:8080/",
          "height": 233
        },
        "outputId": "bd77cf28-80a6-48ba-f8e9-f78725a9e9b1"
      },
      "source": [
        "df.head(5)"
      ],
      "execution_count": 85,
      "outputs": [
        {
          "output_type": "execute_result",
          "data": {
            "text/html": [
              "<div>\n",
              "<style scoped>\n",
              "    .dataframe tbody tr th:only-of-type {\n",
              "        vertical-align: middle;\n",
              "    }\n",
              "\n",
              "    .dataframe tbody tr th {\n",
              "        vertical-align: top;\n",
              "    }\n",
              "\n",
              "    .dataframe thead th {\n",
              "        text-align: right;\n",
              "    }\n",
              "</style>\n",
              "<table border=\"1\" class=\"dataframe\">\n",
              "  <thead>\n",
              "    <tr style=\"text-align: right;\">\n",
              "      <th></th>\n",
              "      <th>id</th>\n",
              "      <th>diagnosis</th>\n",
              "      <th>radius_mean</th>\n",
              "      <th>texture_mean</th>\n",
              "      <th>perimeter_mean</th>\n",
              "      <th>area_mean</th>\n",
              "      <th>smoothness_mean</th>\n",
              "      <th>compactness_mean</th>\n",
              "      <th>concavity_mean</th>\n",
              "      <th>concave points_mean</th>\n",
              "      <th>symmetry_mean</th>\n",
              "      <th>fractal_dimension_mean</th>\n",
              "      <th>radius_se</th>\n",
              "      <th>texture_se</th>\n",
              "      <th>perimeter_se</th>\n",
              "      <th>area_se</th>\n",
              "      <th>smoothness_se</th>\n",
              "      <th>compactness_se</th>\n",
              "      <th>concavity_se</th>\n",
              "      <th>concave points_se</th>\n",
              "      <th>symmetry_se</th>\n",
              "      <th>fractal_dimension_se</th>\n",
              "      <th>radius_worst</th>\n",
              "      <th>texture_worst</th>\n",
              "      <th>perimeter_worst</th>\n",
              "      <th>area_worst</th>\n",
              "      <th>smoothness_worst</th>\n",
              "      <th>compactness_worst</th>\n",
              "      <th>concavity_worst</th>\n",
              "      <th>concave points_worst</th>\n",
              "      <th>symmetry_worst</th>\n",
              "      <th>fractal_dimension_worst</th>\n",
              "      <th>Unnamed: 32</th>\n",
              "    </tr>\n",
              "  </thead>\n",
              "  <tbody>\n",
              "    <tr>\n",
              "      <th>0</th>\n",
              "      <td>842302</td>\n",
              "      <td>M</td>\n",
              "      <td>17.99</td>\n",
              "      <td>10.38</td>\n",
              "      <td>122.80</td>\n",
              "      <td>1001.0</td>\n",
              "      <td>0.11840</td>\n",
              "      <td>0.27760</td>\n",
              "      <td>0.3001</td>\n",
              "      <td>0.14710</td>\n",
              "      <td>0.2419</td>\n",
              "      <td>0.07871</td>\n",
              "      <td>1.0950</td>\n",
              "      <td>0.9053</td>\n",
              "      <td>8.589</td>\n",
              "      <td>153.40</td>\n",
              "      <td>0.006399</td>\n",
              "      <td>0.04904</td>\n",
              "      <td>0.05373</td>\n",
              "      <td>0.01587</td>\n",
              "      <td>0.03003</td>\n",
              "      <td>0.006193</td>\n",
              "      <td>25.38</td>\n",
              "      <td>17.33</td>\n",
              "      <td>184.60</td>\n",
              "      <td>2019.0</td>\n",
              "      <td>0.1622</td>\n",
              "      <td>0.6656</td>\n",
              "      <td>0.7119</td>\n",
              "      <td>0.2654</td>\n",
              "      <td>0.4601</td>\n",
              "      <td>0.11890</td>\n",
              "      <td>NaN</td>\n",
              "    </tr>\n",
              "    <tr>\n",
              "      <th>1</th>\n",
              "      <td>842517</td>\n",
              "      <td>M</td>\n",
              "      <td>20.57</td>\n",
              "      <td>17.77</td>\n",
              "      <td>132.90</td>\n",
              "      <td>1326.0</td>\n",
              "      <td>0.08474</td>\n",
              "      <td>0.07864</td>\n",
              "      <td>0.0869</td>\n",
              "      <td>0.07017</td>\n",
              "      <td>0.1812</td>\n",
              "      <td>0.05667</td>\n",
              "      <td>0.5435</td>\n",
              "      <td>0.7339</td>\n",
              "      <td>3.398</td>\n",
              "      <td>74.08</td>\n",
              "      <td>0.005225</td>\n",
              "      <td>0.01308</td>\n",
              "      <td>0.01860</td>\n",
              "      <td>0.01340</td>\n",
              "      <td>0.01389</td>\n",
              "      <td>0.003532</td>\n",
              "      <td>24.99</td>\n",
              "      <td>23.41</td>\n",
              "      <td>158.80</td>\n",
              "      <td>1956.0</td>\n",
              "      <td>0.1238</td>\n",
              "      <td>0.1866</td>\n",
              "      <td>0.2416</td>\n",
              "      <td>0.1860</td>\n",
              "      <td>0.2750</td>\n",
              "      <td>0.08902</td>\n",
              "      <td>NaN</td>\n",
              "    </tr>\n",
              "    <tr>\n",
              "      <th>2</th>\n",
              "      <td>84300903</td>\n",
              "      <td>M</td>\n",
              "      <td>19.69</td>\n",
              "      <td>21.25</td>\n",
              "      <td>130.00</td>\n",
              "      <td>1203.0</td>\n",
              "      <td>0.10960</td>\n",
              "      <td>0.15990</td>\n",
              "      <td>0.1974</td>\n",
              "      <td>0.12790</td>\n",
              "      <td>0.2069</td>\n",
              "      <td>0.05999</td>\n",
              "      <td>0.7456</td>\n",
              "      <td>0.7869</td>\n",
              "      <td>4.585</td>\n",
              "      <td>94.03</td>\n",
              "      <td>0.006150</td>\n",
              "      <td>0.04006</td>\n",
              "      <td>0.03832</td>\n",
              "      <td>0.02058</td>\n",
              "      <td>0.02250</td>\n",
              "      <td>0.004571</td>\n",
              "      <td>23.57</td>\n",
              "      <td>25.53</td>\n",
              "      <td>152.50</td>\n",
              "      <td>1709.0</td>\n",
              "      <td>0.1444</td>\n",
              "      <td>0.4245</td>\n",
              "      <td>0.4504</td>\n",
              "      <td>0.2430</td>\n",
              "      <td>0.3613</td>\n",
              "      <td>0.08758</td>\n",
              "      <td>NaN</td>\n",
              "    </tr>\n",
              "    <tr>\n",
              "      <th>3</th>\n",
              "      <td>84348301</td>\n",
              "      <td>M</td>\n",
              "      <td>11.42</td>\n",
              "      <td>20.38</td>\n",
              "      <td>77.58</td>\n",
              "      <td>386.1</td>\n",
              "      <td>0.14250</td>\n",
              "      <td>0.28390</td>\n",
              "      <td>0.2414</td>\n",
              "      <td>0.10520</td>\n",
              "      <td>0.2597</td>\n",
              "      <td>0.09744</td>\n",
              "      <td>0.4956</td>\n",
              "      <td>1.1560</td>\n",
              "      <td>3.445</td>\n",
              "      <td>27.23</td>\n",
              "      <td>0.009110</td>\n",
              "      <td>0.07458</td>\n",
              "      <td>0.05661</td>\n",
              "      <td>0.01867</td>\n",
              "      <td>0.05963</td>\n",
              "      <td>0.009208</td>\n",
              "      <td>14.91</td>\n",
              "      <td>26.50</td>\n",
              "      <td>98.87</td>\n",
              "      <td>567.7</td>\n",
              "      <td>0.2098</td>\n",
              "      <td>0.8663</td>\n",
              "      <td>0.6869</td>\n",
              "      <td>0.2575</td>\n",
              "      <td>0.6638</td>\n",
              "      <td>0.17300</td>\n",
              "      <td>NaN</td>\n",
              "    </tr>\n",
              "    <tr>\n",
              "      <th>4</th>\n",
              "      <td>84358402</td>\n",
              "      <td>M</td>\n",
              "      <td>20.29</td>\n",
              "      <td>14.34</td>\n",
              "      <td>135.10</td>\n",
              "      <td>1297.0</td>\n",
              "      <td>0.10030</td>\n",
              "      <td>0.13280</td>\n",
              "      <td>0.1980</td>\n",
              "      <td>0.10430</td>\n",
              "      <td>0.1809</td>\n",
              "      <td>0.05883</td>\n",
              "      <td>0.7572</td>\n",
              "      <td>0.7813</td>\n",
              "      <td>5.438</td>\n",
              "      <td>94.44</td>\n",
              "      <td>0.011490</td>\n",
              "      <td>0.02461</td>\n",
              "      <td>0.05688</td>\n",
              "      <td>0.01885</td>\n",
              "      <td>0.01756</td>\n",
              "      <td>0.005115</td>\n",
              "      <td>22.54</td>\n",
              "      <td>16.67</td>\n",
              "      <td>152.20</td>\n",
              "      <td>1575.0</td>\n",
              "      <td>0.1374</td>\n",
              "      <td>0.2050</td>\n",
              "      <td>0.4000</td>\n",
              "      <td>0.1625</td>\n",
              "      <td>0.2364</td>\n",
              "      <td>0.07678</td>\n",
              "      <td>NaN</td>\n",
              "    </tr>\n",
              "  </tbody>\n",
              "</table>\n",
              "</div>"
            ],
            "text/plain": [
              "         id diagnosis  ...  fractal_dimension_worst  Unnamed: 32\n",
              "0    842302         M  ...                  0.11890          NaN\n",
              "1    842517         M  ...                  0.08902          NaN\n",
              "2  84300903         M  ...                  0.08758          NaN\n",
              "3  84348301         M  ...                  0.17300          NaN\n",
              "4  84358402         M  ...                  0.07678          NaN\n",
              "\n",
              "[5 rows x 33 columns]"
            ]
          },
          "metadata": {
            "tags": []
          },
          "execution_count": 85
        }
      ]
    },
    {
      "cell_type": "markdown",
      "metadata": {
        "id": "TgnWsmfgF5wR"
      },
      "source": [
        "PREPROCESSING"
      ]
    },
    {
      "cell_type": "code",
      "metadata": {
        "id": "OkVzV4clF1yb",
        "colab": {
          "base_uri": "https://localhost:8080/",
          "height": 233
        },
        "outputId": "3c005531-ca92-4757-9813-6450e66ef16a"
      },
      "source": [
        "df.drop(['id'], axis = 1, inplace = True)\n",
        "df.head()"
      ],
      "execution_count": 86,
      "outputs": [
        {
          "output_type": "execute_result",
          "data": {
            "text/html": [
              "<div>\n",
              "<style scoped>\n",
              "    .dataframe tbody tr th:only-of-type {\n",
              "        vertical-align: middle;\n",
              "    }\n",
              "\n",
              "    .dataframe tbody tr th {\n",
              "        vertical-align: top;\n",
              "    }\n",
              "\n",
              "    .dataframe thead th {\n",
              "        text-align: right;\n",
              "    }\n",
              "</style>\n",
              "<table border=\"1\" class=\"dataframe\">\n",
              "  <thead>\n",
              "    <tr style=\"text-align: right;\">\n",
              "      <th></th>\n",
              "      <th>diagnosis</th>\n",
              "      <th>radius_mean</th>\n",
              "      <th>texture_mean</th>\n",
              "      <th>perimeter_mean</th>\n",
              "      <th>area_mean</th>\n",
              "      <th>smoothness_mean</th>\n",
              "      <th>compactness_mean</th>\n",
              "      <th>concavity_mean</th>\n",
              "      <th>concave points_mean</th>\n",
              "      <th>symmetry_mean</th>\n",
              "      <th>fractal_dimension_mean</th>\n",
              "      <th>radius_se</th>\n",
              "      <th>texture_se</th>\n",
              "      <th>perimeter_se</th>\n",
              "      <th>area_se</th>\n",
              "      <th>smoothness_se</th>\n",
              "      <th>compactness_se</th>\n",
              "      <th>concavity_se</th>\n",
              "      <th>concave points_se</th>\n",
              "      <th>symmetry_se</th>\n",
              "      <th>fractal_dimension_se</th>\n",
              "      <th>radius_worst</th>\n",
              "      <th>texture_worst</th>\n",
              "      <th>perimeter_worst</th>\n",
              "      <th>area_worst</th>\n",
              "      <th>smoothness_worst</th>\n",
              "      <th>compactness_worst</th>\n",
              "      <th>concavity_worst</th>\n",
              "      <th>concave points_worst</th>\n",
              "      <th>symmetry_worst</th>\n",
              "      <th>fractal_dimension_worst</th>\n",
              "      <th>Unnamed: 32</th>\n",
              "    </tr>\n",
              "  </thead>\n",
              "  <tbody>\n",
              "    <tr>\n",
              "      <th>0</th>\n",
              "      <td>M</td>\n",
              "      <td>17.99</td>\n",
              "      <td>10.38</td>\n",
              "      <td>122.80</td>\n",
              "      <td>1001.0</td>\n",
              "      <td>0.11840</td>\n",
              "      <td>0.27760</td>\n",
              "      <td>0.3001</td>\n",
              "      <td>0.14710</td>\n",
              "      <td>0.2419</td>\n",
              "      <td>0.07871</td>\n",
              "      <td>1.0950</td>\n",
              "      <td>0.9053</td>\n",
              "      <td>8.589</td>\n",
              "      <td>153.40</td>\n",
              "      <td>0.006399</td>\n",
              "      <td>0.04904</td>\n",
              "      <td>0.05373</td>\n",
              "      <td>0.01587</td>\n",
              "      <td>0.03003</td>\n",
              "      <td>0.006193</td>\n",
              "      <td>25.38</td>\n",
              "      <td>17.33</td>\n",
              "      <td>184.60</td>\n",
              "      <td>2019.0</td>\n",
              "      <td>0.1622</td>\n",
              "      <td>0.6656</td>\n",
              "      <td>0.7119</td>\n",
              "      <td>0.2654</td>\n",
              "      <td>0.4601</td>\n",
              "      <td>0.11890</td>\n",
              "      <td>NaN</td>\n",
              "    </tr>\n",
              "    <tr>\n",
              "      <th>1</th>\n",
              "      <td>M</td>\n",
              "      <td>20.57</td>\n",
              "      <td>17.77</td>\n",
              "      <td>132.90</td>\n",
              "      <td>1326.0</td>\n",
              "      <td>0.08474</td>\n",
              "      <td>0.07864</td>\n",
              "      <td>0.0869</td>\n",
              "      <td>0.07017</td>\n",
              "      <td>0.1812</td>\n",
              "      <td>0.05667</td>\n",
              "      <td>0.5435</td>\n",
              "      <td>0.7339</td>\n",
              "      <td>3.398</td>\n",
              "      <td>74.08</td>\n",
              "      <td>0.005225</td>\n",
              "      <td>0.01308</td>\n",
              "      <td>0.01860</td>\n",
              "      <td>0.01340</td>\n",
              "      <td>0.01389</td>\n",
              "      <td>0.003532</td>\n",
              "      <td>24.99</td>\n",
              "      <td>23.41</td>\n",
              "      <td>158.80</td>\n",
              "      <td>1956.0</td>\n",
              "      <td>0.1238</td>\n",
              "      <td>0.1866</td>\n",
              "      <td>0.2416</td>\n",
              "      <td>0.1860</td>\n",
              "      <td>0.2750</td>\n",
              "      <td>0.08902</td>\n",
              "      <td>NaN</td>\n",
              "    </tr>\n",
              "    <tr>\n",
              "      <th>2</th>\n",
              "      <td>M</td>\n",
              "      <td>19.69</td>\n",
              "      <td>21.25</td>\n",
              "      <td>130.00</td>\n",
              "      <td>1203.0</td>\n",
              "      <td>0.10960</td>\n",
              "      <td>0.15990</td>\n",
              "      <td>0.1974</td>\n",
              "      <td>0.12790</td>\n",
              "      <td>0.2069</td>\n",
              "      <td>0.05999</td>\n",
              "      <td>0.7456</td>\n",
              "      <td>0.7869</td>\n",
              "      <td>4.585</td>\n",
              "      <td>94.03</td>\n",
              "      <td>0.006150</td>\n",
              "      <td>0.04006</td>\n",
              "      <td>0.03832</td>\n",
              "      <td>0.02058</td>\n",
              "      <td>0.02250</td>\n",
              "      <td>0.004571</td>\n",
              "      <td>23.57</td>\n",
              "      <td>25.53</td>\n",
              "      <td>152.50</td>\n",
              "      <td>1709.0</td>\n",
              "      <td>0.1444</td>\n",
              "      <td>0.4245</td>\n",
              "      <td>0.4504</td>\n",
              "      <td>0.2430</td>\n",
              "      <td>0.3613</td>\n",
              "      <td>0.08758</td>\n",
              "      <td>NaN</td>\n",
              "    </tr>\n",
              "    <tr>\n",
              "      <th>3</th>\n",
              "      <td>M</td>\n",
              "      <td>11.42</td>\n",
              "      <td>20.38</td>\n",
              "      <td>77.58</td>\n",
              "      <td>386.1</td>\n",
              "      <td>0.14250</td>\n",
              "      <td>0.28390</td>\n",
              "      <td>0.2414</td>\n",
              "      <td>0.10520</td>\n",
              "      <td>0.2597</td>\n",
              "      <td>0.09744</td>\n",
              "      <td>0.4956</td>\n",
              "      <td>1.1560</td>\n",
              "      <td>3.445</td>\n",
              "      <td>27.23</td>\n",
              "      <td>0.009110</td>\n",
              "      <td>0.07458</td>\n",
              "      <td>0.05661</td>\n",
              "      <td>0.01867</td>\n",
              "      <td>0.05963</td>\n",
              "      <td>0.009208</td>\n",
              "      <td>14.91</td>\n",
              "      <td>26.50</td>\n",
              "      <td>98.87</td>\n",
              "      <td>567.7</td>\n",
              "      <td>0.2098</td>\n",
              "      <td>0.8663</td>\n",
              "      <td>0.6869</td>\n",
              "      <td>0.2575</td>\n",
              "      <td>0.6638</td>\n",
              "      <td>0.17300</td>\n",
              "      <td>NaN</td>\n",
              "    </tr>\n",
              "    <tr>\n",
              "      <th>4</th>\n",
              "      <td>M</td>\n",
              "      <td>20.29</td>\n",
              "      <td>14.34</td>\n",
              "      <td>135.10</td>\n",
              "      <td>1297.0</td>\n",
              "      <td>0.10030</td>\n",
              "      <td>0.13280</td>\n",
              "      <td>0.1980</td>\n",
              "      <td>0.10430</td>\n",
              "      <td>0.1809</td>\n",
              "      <td>0.05883</td>\n",
              "      <td>0.7572</td>\n",
              "      <td>0.7813</td>\n",
              "      <td>5.438</td>\n",
              "      <td>94.44</td>\n",
              "      <td>0.011490</td>\n",
              "      <td>0.02461</td>\n",
              "      <td>0.05688</td>\n",
              "      <td>0.01885</td>\n",
              "      <td>0.01756</td>\n",
              "      <td>0.005115</td>\n",
              "      <td>22.54</td>\n",
              "      <td>16.67</td>\n",
              "      <td>152.20</td>\n",
              "      <td>1575.0</td>\n",
              "      <td>0.1374</td>\n",
              "      <td>0.2050</td>\n",
              "      <td>0.4000</td>\n",
              "      <td>0.1625</td>\n",
              "      <td>0.2364</td>\n",
              "      <td>0.07678</td>\n",
              "      <td>NaN</td>\n",
              "    </tr>\n",
              "  </tbody>\n",
              "</table>\n",
              "</div>"
            ],
            "text/plain": [
              "  diagnosis  radius_mean  ...  fractal_dimension_worst  Unnamed: 32\n",
              "0         M        17.99  ...                  0.11890          NaN\n",
              "1         M        20.57  ...                  0.08902          NaN\n",
              "2         M        19.69  ...                  0.08758          NaN\n",
              "3         M        11.42  ...                  0.17300          NaN\n",
              "4         M        20.29  ...                  0.07678          NaN\n",
              "\n",
              "[5 rows x 32 columns]"
            ]
          },
          "metadata": {
            "tags": []
          },
          "execution_count": 86
        }
      ]
    },
    {
      "cell_type": "markdown",
      "metadata": {
        "id": "4sHGMWC3GDVS"
      },
      "source": [
        "### Encoding\n"
      ]
    },
    {
      "cell_type": "code",
      "metadata": {
        "id": "bREp0so_GM7p"
      },
      "source": [
        "encode = LabelEncoder()\n",
        "df['diagnosis'] = encode.fit_transform(df['diagnosis'])"
      ],
      "execution_count": 87,
      "outputs": []
    },
    {
      "cell_type": "code",
      "metadata": {
        "id": "_rX3Y6VXGp3D",
        "colab": {
          "base_uri": "https://localhost:8080/"
        },
        "outputId": "a68edd1c-b2b0-4542-f2ca-6464c4516e03"
      },
      "source": [
        "features = list(df.columns[1:31])\n",
        "len(features)"
      ],
      "execution_count": 88,
      "outputs": [
        {
          "output_type": "execute_result",
          "data": {
            "text/plain": [
              "30"
            ]
          },
          "metadata": {
            "tags": []
          },
          "execution_count": 88
        }
      ]
    },
    {
      "cell_type": "code",
      "metadata": {
        "id": "AI8DOdMPHo-z"
      },
      "source": [
        "scaler = StandardScaler()"
      ],
      "execution_count": 89,
      "outputs": []
    },
    {
      "cell_type": "markdown",
      "metadata": {
        "id": "MbeACXP9G-g7"
      },
      "source": [
        "### Train Test Split"
      ]
    },
    {
      "cell_type": "code",
      "metadata": {
        "id": "X6enpLSfG8MS"
      },
      "source": [
        "X_train, X_test, y_train, y_test = train_test_split(df[features], df['diagnosis'].values, test_size=0.15, random_state=0)"
      ],
      "execution_count": 90,
      "outputs": []
    },
    {
      "cell_type": "code",
      "metadata": {
        "id": "tABn3moxHC9a",
        "colab": {
          "base_uri": "https://localhost:8080/"
        },
        "outputId": "f994a4b4-b615-4a71-92dc-49baae6191c0"
      },
      "source": [
        "classifier = Sequential()\n",
        "\n",
        "# Adding the input layer and the first hidden layer\n",
        "classifier.add(Dense(units = 30, kernel_initializer = 'uniform', activation = 'relu', input_dim = 30))\n",
        "classifier.add(Dropout(rate = 0.1))\n",
        "\n",
        "# Adding the second hidden layer\n",
        "classifier.add(Dense(units = 15, kernel_initializer = 'uniform', activation = 'relu'))\n",
        "classifier.add(Dropout(rate = 0.1))\n",
        "\n",
        "# Adding the third hidden layer\n",
        "classifier.add(Dense(units = 7, kernel_initializer = 'uniform', activation = 'relu'))\n",
        "classifier.add(Dropout(rate = 0.2))\n",
        "\n",
        "\n",
        "# Adding the output layer\n",
        "classifier.add(Dense(units = 1, kernel_initializer = 'uniform', activation = 'sigmoid'))\n",
        "\n",
        "# Compiling the ANN\n",
        "classifier.compile(optimizer = 'adam', loss = 'binary_crossentropy', metrics = ['accuracy'])\n",
        "\n",
        "classifier.summary()"
      ],
      "execution_count": 91,
      "outputs": [
        {
          "output_type": "stream",
          "text": [
            "Model: \"sequential_14\"\n",
            "_________________________________________________________________\n",
            "Layer (type)                 Output Shape              Param #   \n",
            "=================================================================\n",
            "dense_54 (Dense)             (None, 30)                930       \n",
            "_________________________________________________________________\n",
            "dropout_40 (Dropout)         (None, 30)                0         \n",
            "_________________________________________________________________\n",
            "dense_55 (Dense)             (None, 15)                465       \n",
            "_________________________________________________________________\n",
            "dropout_41 (Dropout)         (None, 15)                0         \n",
            "_________________________________________________________________\n",
            "dense_56 (Dense)             (None, 7)                 112       \n",
            "_________________________________________________________________\n",
            "dropout_42 (Dropout)         (None, 7)                 0         \n",
            "_________________________________________________________________\n",
            "dense_57 (Dense)             (None, 1)                 8         \n",
            "=================================================================\n",
            "Total params: 1,515\n",
            "Trainable params: 1,515\n",
            "Non-trainable params: 0\n",
            "_________________________________________________________________\n"
          ],
          "name": "stdout"
        }
      ]
    },
    {
      "cell_type": "code",
      "metadata": {
        "id": "cc2VM6U1HHZS",
        "colab": {
          "base_uri": "https://localhost:8080/"
        },
        "outputId": "a8275c07-63da-4fa2-aa05-8a15dd650e6c"
      },
      "source": [
        "history=classifier.fit(scaler.fit_transform(X_train.values), np.array(y_train),batch_size = 4,epochs=50,validation_split=0.20)"
      ],
      "execution_count": 92,
      "outputs": [
        {
          "output_type": "stream",
          "text": [
            "Epoch 1/50\n",
            "97/97 [==============================] - 1s 3ms/step - loss: 0.6798 - accuracy: 0.6374 - val_loss: 0.4491 - val_accuracy: 0.9278\n",
            "Epoch 2/50\n",
            "97/97 [==============================] - 0s 1ms/step - loss: 0.3422 - accuracy: 0.9048 - val_loss: 0.1052 - val_accuracy: 0.9897\n",
            "Epoch 3/50\n",
            "97/97 [==============================] - 0s 1ms/step - loss: 0.1094 - accuracy: 0.9787 - val_loss: 0.0599 - val_accuracy: 0.9794\n",
            "Epoch 4/50\n",
            "97/97 [==============================] - 0s 1ms/step - loss: 0.1321 - accuracy: 0.9379 - val_loss: 0.0498 - val_accuracy: 0.9794\n",
            "Epoch 5/50\n",
            "97/97 [==============================] - 0s 1ms/step - loss: 0.1037 - accuracy: 0.9670 - val_loss: 0.0446 - val_accuracy: 0.9794\n",
            "Epoch 6/50\n",
            "97/97 [==============================] - 0s 1ms/step - loss: 0.1072 - accuracy: 0.9755 - val_loss: 0.0366 - val_accuracy: 0.9794\n",
            "Epoch 7/50\n",
            "97/97 [==============================] - 0s 1ms/step - loss: 0.0542 - accuracy: 0.9874 - val_loss: 0.0324 - val_accuracy: 0.9794\n",
            "Epoch 8/50\n",
            "97/97 [==============================] - 0s 1ms/step - loss: 0.0846 - accuracy: 0.9650 - val_loss: 0.0306 - val_accuracy: 0.9794\n",
            "Epoch 9/50\n",
            "97/97 [==============================] - 0s 1ms/step - loss: 0.0759 - accuracy: 0.9700 - val_loss: 0.0268 - val_accuracy: 0.9897\n",
            "Epoch 10/50\n",
            "97/97 [==============================] - 0s 2ms/step - loss: 0.0570 - accuracy: 0.9861 - val_loss: 0.0286 - val_accuracy: 0.9897\n",
            "Epoch 11/50\n",
            "97/97 [==============================] - 0s 2ms/step - loss: 0.0824 - accuracy: 0.9749 - val_loss: 0.0303 - val_accuracy: 0.9897\n",
            "Epoch 12/50\n",
            "97/97 [==============================] - 0s 2ms/step - loss: 0.0616 - accuracy: 0.9841 - val_loss: 0.0251 - val_accuracy: 0.9897\n",
            "Epoch 13/50\n",
            "97/97 [==============================] - 0s 1ms/step - loss: 0.0653 - accuracy: 0.9823 - val_loss: 0.0170 - val_accuracy: 1.0000\n",
            "Epoch 14/50\n",
            "97/97 [==============================] - 0s 1ms/step - loss: 0.0536 - accuracy: 0.9859 - val_loss: 0.0192 - val_accuracy: 1.0000\n",
            "Epoch 15/50\n",
            "97/97 [==============================] - 0s 1ms/step - loss: 0.0385 - accuracy: 0.9880 - val_loss: 0.0144 - val_accuracy: 1.0000\n",
            "Epoch 16/50\n",
            "97/97 [==============================] - 0s 1ms/step - loss: 0.0643 - accuracy: 0.9810 - val_loss: 0.0170 - val_accuracy: 1.0000\n",
            "Epoch 17/50\n",
            "97/97 [==============================] - 0s 1ms/step - loss: 0.0498 - accuracy: 0.9875 - val_loss: 0.0158 - val_accuracy: 1.0000\n",
            "Epoch 18/50\n",
            "97/97 [==============================] - 0s 1ms/step - loss: 0.0672 - accuracy: 0.9743 - val_loss: 0.0135 - val_accuracy: 1.0000\n",
            "Epoch 19/50\n",
            "97/97 [==============================] - 0s 1ms/step - loss: 0.0400 - accuracy: 0.9879 - val_loss: 0.0163 - val_accuracy: 1.0000\n",
            "Epoch 20/50\n",
            "97/97 [==============================] - 0s 3ms/step - loss: 0.0547 - accuracy: 0.9870 - val_loss: 0.0180 - val_accuracy: 1.0000\n",
            "Epoch 21/50\n",
            "97/97 [==============================] - 0s 1ms/step - loss: 0.0625 - accuracy: 0.9748 - val_loss: 0.0156 - val_accuracy: 1.0000\n",
            "Epoch 22/50\n",
            "97/97 [==============================] - 0s 1ms/step - loss: 0.0532 - accuracy: 0.9833 - val_loss: 0.0139 - val_accuracy: 1.0000\n",
            "Epoch 23/50\n",
            "97/97 [==============================] - 0s 2ms/step - loss: 0.0546 - accuracy: 0.9798 - val_loss: 0.0124 - val_accuracy: 1.0000\n",
            "Epoch 24/50\n",
            "97/97 [==============================] - 0s 1ms/step - loss: 0.0618 - accuracy: 0.9743 - val_loss: 0.0330 - val_accuracy: 0.9897\n",
            "Epoch 25/50\n",
            "97/97 [==============================] - 0s 2ms/step - loss: 0.0490 - accuracy: 0.9879 - val_loss: 0.0189 - val_accuracy: 0.9897\n",
            "Epoch 26/50\n",
            "97/97 [==============================] - 0s 2ms/step - loss: 0.0571 - accuracy: 0.9780 - val_loss: 0.0171 - val_accuracy: 1.0000\n",
            "Epoch 27/50\n",
            "97/97 [==============================] - 0s 1ms/step - loss: 0.0666 - accuracy: 0.9740 - val_loss: 0.0240 - val_accuracy: 0.9794\n",
            "Epoch 28/50\n",
            "97/97 [==============================] - 0s 1ms/step - loss: 0.0375 - accuracy: 0.9831 - val_loss: 0.0432 - val_accuracy: 0.9794\n",
            "Epoch 29/50\n",
            "97/97 [==============================] - 0s 1ms/step - loss: 0.0389 - accuracy: 0.9808 - val_loss: 0.0330 - val_accuracy: 0.9794\n",
            "Epoch 30/50\n",
            "97/97 [==============================] - 0s 1ms/step - loss: 0.0492 - accuracy: 0.9777 - val_loss: 0.0247 - val_accuracy: 0.9794\n",
            "Epoch 31/50\n",
            "97/97 [==============================] - 0s 1ms/step - loss: 0.0460 - accuracy: 0.9787 - val_loss: 0.0274 - val_accuracy: 0.9794\n",
            "Epoch 32/50\n",
            "97/97 [==============================] - 0s 1ms/step - loss: 0.0369 - accuracy: 0.9797 - val_loss: 0.0212 - val_accuracy: 0.9897\n",
            "Epoch 33/50\n",
            "97/97 [==============================] - 0s 1ms/step - loss: 0.0289 - accuracy: 0.9909 - val_loss: 0.0207 - val_accuracy: 0.9897\n",
            "Epoch 34/50\n",
            "97/97 [==============================] - 0s 1ms/step - loss: 0.0531 - accuracy: 0.9840 - val_loss: 0.0199 - val_accuracy: 0.9794\n",
            "Epoch 35/50\n",
            "97/97 [==============================] - 0s 1ms/step - loss: 0.0314 - accuracy: 0.9907 - val_loss: 0.0313 - val_accuracy: 0.9794\n",
            "Epoch 36/50\n",
            "97/97 [==============================] - 0s 1ms/step - loss: 0.0261 - accuracy: 0.9943 - val_loss: 0.0221 - val_accuracy: 0.9794\n",
            "Epoch 37/50\n",
            "97/97 [==============================] - 0s 1ms/step - loss: 0.0372 - accuracy: 0.9880 - val_loss: 0.0187 - val_accuracy: 0.9897\n",
            "Epoch 38/50\n",
            "97/97 [==============================] - 0s 2ms/step - loss: 0.0456 - accuracy: 0.9745 - val_loss: 0.0349 - val_accuracy: 0.9794\n",
            "Epoch 39/50\n",
            "97/97 [==============================] - 0s 2ms/step - loss: 0.0195 - accuracy: 0.9948 - val_loss: 0.0247 - val_accuracy: 0.9794\n",
            "Epoch 40/50\n",
            "97/97 [==============================] - 0s 2ms/step - loss: 0.0197 - accuracy: 0.9915 - val_loss: 0.0222 - val_accuracy: 0.9794\n",
            "Epoch 41/50\n",
            "97/97 [==============================] - 0s 2ms/step - loss: 0.0228 - accuracy: 0.9908 - val_loss: 0.0227 - val_accuracy: 0.9794\n",
            "Epoch 42/50\n",
            "97/97 [==============================] - 0s 1ms/step - loss: 0.0328 - accuracy: 0.9803 - val_loss: 0.0464 - val_accuracy: 0.9794\n",
            "Epoch 43/50\n",
            "97/97 [==============================] - 0s 1ms/step - loss: 0.0189 - accuracy: 0.9933 - val_loss: 0.0178 - val_accuracy: 0.9897\n",
            "Epoch 44/50\n",
            "97/97 [==============================] - 0s 1ms/step - loss: 0.0539 - accuracy: 0.9731 - val_loss: 0.0279 - val_accuracy: 0.9794\n",
            "Epoch 45/50\n",
            "97/97 [==============================] - 0s 1ms/step - loss: 0.0223 - accuracy: 0.9953 - val_loss: 0.0233 - val_accuracy: 0.9897\n",
            "Epoch 46/50\n",
            "97/97 [==============================] - 0s 2ms/step - loss: 0.0235 - accuracy: 0.9929 - val_loss: 0.0162 - val_accuracy: 0.9897\n",
            "Epoch 47/50\n",
            "97/97 [==============================] - 0s 1ms/step - loss: 0.0107 - accuracy: 0.9947 - val_loss: 0.0192 - val_accuracy: 0.9897\n",
            "Epoch 48/50\n",
            "97/97 [==============================] - 0s 2ms/step - loss: 0.0185 - accuracy: 0.9882 - val_loss: 0.0113 - val_accuracy: 0.9897\n",
            "Epoch 49/50\n",
            "97/97 [==============================] - 0s 2ms/step - loss: 0.0193 - accuracy: 0.9949 - val_loss: 0.0140 - val_accuracy: 0.9897\n",
            "Epoch 50/50\n",
            "97/97 [==============================] - 0s 1ms/step - loss: 0.0150 - accuracy: 0.9926 - val_loss: 0.0198 - val_accuracy: 0.9897\n"
          ],
          "name": "stdout"
        }
      ]
    },
    {
      "cell_type": "code",
      "metadata": {
        "id": "Q0PyexkMH-L3",
        "colab": {
          "base_uri": "https://localhost:8080/"
        },
        "outputId": "2df5fb4e-bb0d-4241-bed3-a32cec930598"
      },
      "source": [
        "y_prediction = classifier.predict_classes(scaler.transform(X_test.values))\n"
      ],
      "execution_count": 93,
      "outputs": [
        {
          "output_type": "stream",
          "text": [
            "WARNING:tensorflow:5 out of the last 13 calls to <function Model.make_predict_function.<locals>.predict_function at 0x7fb28d547ea0> triggered tf.function retracing. Tracing is expensive and the excessive number of tracings could be due to (1) creating @tf.function repeatedly in a loop, (2) passing tensors with different shapes, (3) passing Python objects instead of tensors. For (1), please define your @tf.function outside of the loop. For (2), @tf.function has experimental_relax_shapes=True option that relaxes argument shapes that can avoid unnecessary retracing. For (3), please refer to https://www.tensorflow.org/guide/function#controlling_retracing and https://www.tensorflow.org/api_docs/python/tf/function for  more details.\n"
          ],
          "name": "stdout"
        },
        {
          "output_type": "stream",
          "text": [
            "/usr/local/lib/python3.6/dist-packages/tensorflow/python/keras/engine/sequential.py:450: UserWarning: `model.predict_classes()` is deprecated and will be removed after 2021-01-01. Please use instead:* `np.argmax(model.predict(x), axis=-1)`,   if your model does multi-class classification   (e.g. if it uses a `softmax` last-layer activation).* `(model.predict(x) > 0.5).astype(\"int32\")`,   if your model does binary classification   (e.g. if it uses a `sigmoid` last-layer activation).\n",
            "  warnings.warn('`model.predict_classes()` is deprecated and '\n"
          ],
          "name": "stderr"
        }
      ]
    },
    {
      "cell_type": "code",
      "metadata": {
        "id": "bSfkjwI4Kb_y",
        "colab": {
          "base_uri": "https://localhost:8080/",
          "height": 581
        },
        "outputId": "b9d4acc4-6b1a-4ad0-827c-c930bdbf698e"
      },
      "source": [
        "plt.plot(history.history['accuracy'])\n",
        "plt.plot(history.history['val_accuracy'])\n",
        "plt.title('Model accuracy')\n",
        "plt.ylabel('Accuracy')\n",
        "plt.xlabel('Epoch')\n",
        "plt.legend(['Train', 'Validation'], loc='upper left')\n",
        "plt.show()\n",
        "\n",
        "# Plot training & validation loss values\n",
        "plt.plot(history.history['loss'])\n",
        "plt.plot(history.history['val_loss'])\n",
        "plt.title('Model loss')\n",
        "plt.ylabel('Loss')\n",
        "plt.xlabel('Epoch')\n",
        "plt.legend(['Train', 'Validation'], loc='upper left')\n",
        "plt.show()"
      ],
      "execution_count": 94,
      "outputs": [
        {
          "output_type": "display_data",
          "data": {
            "image/png": "[encoded data removed]",
            "text/plain": [
              "<Figure size 432x288 with 1 Axes>"
            ]
          },
          "metadata": {
            "tags": []
          }
        },
        {
          "output_type": "display_data",
          "data": {
            "image/png": "[encoded data removed]",
            "text/plain": [
              "<Figure size 432x288 with 1 Axes>"
            ]
          },
          "metadata": {
            "tags": []
          }
        }
      ]
    },
    {
      "cell_type": "code",
      "metadata": {
        "id": "RSA9DrUULoVj",
        "colab": {
          "base_uri": "https://localhost:8080/",
          "height": 281
        },
        "outputId": "7171fda7-72de-4355-9eaf-0ab15324021f"
      },
      "source": [
        "#print(len(y_test),len(y_prediction))\n",
        "cm = confusion_matrix(y_test, y_prediction)\n",
        "tn, fn, fp, tp=confusion_matrix(y_prediction,y_test).ravel()\n",
        "\n",
        "\n",
        "accuracy = (cm[0][0]+cm[1][1])/(cm[0][0]+cm[0][1]+cm[1][0]+cm[1][1])\n",
        "print(\"Accuracy: \"+ str(accuracy*100)+\"%\")\n",
        "sns.heatmap(cm, annot=True)\n",
        "plt.savefig('h.png')\n",
        "plt.show()"
      ],
      "execution_count": 95,
      "outputs": [
        {
          "output_type": "stream",
          "text": [
            "Accuracy: 98.83720930232558%\n"
          ],
          "name": "stdout"
        },
        {
          "output_type": "display_data",
          "data": {
            "image/png": "[encoded data removed]",
            "text/plain": [
              "<Figure size 432x288 with 2 Axes>"
            ]
          },
          "metadata": {
            "tags": []
          }
        }
      ]
    },
    {
      "cell_type": "code",
      "metadata": {
        "id": "P9KJTM9WOKY0",
        "colab": {
          "base_uri": "https://localhost:8080/"
        },
        "outputId": "c8dfaeae-09e2-4154-dad1-a595818ba9b7"
      },
      "source": [
        "precision, recall,fscore, support =  precision_recall_fscore_support(y_test, y_prediction, average=None)\n",
        "\n",
        "print('True Negative', tn)\n",
        "print('False Positive', fp)\n",
        "print('False Negative', fn)\n",
        "print('True Positive', tp)\n",
        "\n",
        "total = tn + tp + fn + fp\n",
        "\n",
        "print('Test Accuracy : ', (tn + tp)/total)\n",
        "print('Misclassification Rate : ', (fn + fp)/total)\n",
        "print('precision : ', precision)\n",
        "print('recall : ', recall)\n",
        "print('FScore : ', fscore)\n",
        "print('Support : ', support)\n",
        "print('Sensitivity or TPR : ', (tp/ (tp + fn)) )\n",
        "print('Specificity or TNR : ', (tn/(tn+fp)))\n",
        "print('False Positive Rate or Fallout : ', (fp/(fp+tn)))\n",
        "print('False Negative Rate : ', (fn/(fn+tp)))\n",
        "\n",
        "print('False Discovery Rate : ', (fp/(tp+fp)))"
      ],
      "execution_count": 96,
      "outputs": [
        {
          "output_type": "stream",
          "text": [
            "True Negative 49\n",
            "False Positive 1\n",
            "False Negative 0\n",
            "True Positive 36\n",
            "Test Accuracy :  0.9883720930232558\n",
            "Misclassification Rate :  0.011627906976744186\n",
            "precision :  [1.         0.97297297]\n",
            "recall :  [0.98 1.  ]\n",
            "FScore :  [0.98989899 0.98630137]\n",
            "Support :  [50 36]\n",
            "Sensitivity or TPR :  1.0\n",
            "Specificity or TNR :  0.98\n",
            "False Positive Rate or Fallout :  0.02\n",
            "False Negative Rate :  0.0\n",
            "False Discovery Rate :  0.02702702702702703\n"
          ],
          "name": "stdout"
        }
      ]
    },
    {
      "cell_type": "code",
      "metadata": {
        "id": "Cua5YS94WBxC"
      },
      "source": [
        "from ann_visualizer.visualize import ann_viz;\n",
        "\n"
      ],
      "execution_count": 97,
      "outputs": []
    },
    {
      "cell_type": "code",
      "metadata": {
        "id": "51Upj8wLWBq4"
      },
      "source": [
        "ann_viz(classifier, title=\"Neural Network\")"
      ],
      "execution_count": null,
      "outputs": []
    }
  ]
}